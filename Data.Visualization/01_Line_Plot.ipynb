{
 "cells": [
  {
   "cell_type": "markdown",
   "id": "edada8e2",
   "metadata": {},
   "source": [
    "# import libraries\n",
    "- Seaborn automatically installs these libraries\n",
    "*numpy*\n",
    "*Scipy*\n",
    "*Matplotlib*\n",
    "*Pandas*"
   ]
  },
  {
   "cell_type": "code",
   "execution_count": null,
   "id": "0dc63ea0",
   "metadata": {},
   "outputs": [],
   "source": [
    "#import libraries\n",
    "import seaborn as sns\n",
    "import matplotlib.pyplot as plt\n",
    "\n",
    "#load dataset\n",
    "\n",
    "# Steps involved in data visualization\n",
    "# step-1 import libraries\n",
    "import seaborn as sns\n",
    "import matplotlib.pyplot as plt\n",
    "\n",
    "# Step-2 set a theme\n",
    "sns.set_theme(style=\"ticks\",color_codes=True)\n",
    "\n",
    "# Step - 3 import data set u can also import your own data\n",
    "Kashti = sns.load_dataset(\"titanic\")\n",
    "#print(Kashti)\n",
    "\n",
    "#  # step - 4 plot basic graph with 1 variable (count)\n",
    "# p = sns.countplot(x=\"sex\", data=Kashti)\n",
    "# plt.show()\n",
    "\n",
    "# # step - 5 plot basic graph with 2 variables (count plot) # hue means color\n",
    "# p = sns.countplot(x=\"sex\", data=Kashti,hue= \"class\")\n",
    "# plt.show()\n",
    "\n",
    "# step - 6 plot basic graph with 2 variables (count plot) with titles  # hue means color\n",
    "p = sns.countplot(x=\"sex\", data=Kashti,hue= \"class\")\n",
    "p.set_title(\"Baba_Ammar ka countplot for Kashti\")\n",
    "plt.show()\n"
   ]
  }
 ],
 "metadata": {
  "kernelspec": {
   "display_name": "Python 3 (ipykernel)",
   "language": "python",
   "name": "python3"
  },
  "language_info": {
   "codemirror_mode": {
    "name": "ipython",
    "version": 3
   },
   "file_extension": ".py",
   "mimetype": "text/x-python",
   "name": "python",
   "nbconvert_exporter": "python",
   "pygments_lexer": "ipython3",
   "version": "3.9.12"
  }
 },
 "nbformat": 4,
 "nbformat_minor": 5
}
