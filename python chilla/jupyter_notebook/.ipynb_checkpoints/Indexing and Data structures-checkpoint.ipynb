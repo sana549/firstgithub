{
 "cells": [
  {
   "cell_type": "markdown",
   "id": "8a046707",
   "metadata": {},
   "source": [
    "#   Indexing"
   ]
  },
  {
   "cell_type": "code",
   "execution_count": 1,
   "id": "65aa4bc0",
   "metadata": {},
   "outputs": [
    {
     "data": {
      "text/plain": [
       "'Samosa Pakora'"
      ]
     },
     "execution_count": 1,
     "metadata": {},
     "output_type": "execute_result"
    }
   ],
   "source": [
    "# Make a string\n",
    "a= \"Samosa Pakora\"\n",
    "a"
   ]
  },
  {
   "cell_type": "code",
   "execution_count": 2,
   "id": "143fde08",
   "metadata": {},
   "outputs": [
    {
     "data": {
      "text/plain": [
       "'Samosa Pakora'"
      ]
     },
     "execution_count": 2,
     "metadata": {},
     "output_type": "execute_result"
    }
   ],
   "source": [
    "a"
   ]
  },
  {
   "cell_type": "code",
   "execution_count": 3,
   "id": "c3a6937d",
   "metadata": {},
   "outputs": [
    {
     "data": {
      "text/plain": [
       "13"
      ]
     },
     "execution_count": 3,
     "metadata": {},
     "output_type": "execute_result"
    }
   ],
   "source": [
    "# Length of indeces\n",
    "len(a)"
   ]
  },
  {
   "cell_type": "code",
   "execution_count": 4,
   "id": "011038bf",
   "metadata": {},
   "outputs": [
    {
     "data": {
      "text/plain": [
       "'S'"
      ]
     },
     "execution_count": 4,
     "metadata": {},
     "output_type": "execute_result"
    }
   ],
   "source": [
    "a[0]"
   ]
  },
  {
   "cell_type": "code",
   "execution_count": 5,
   "id": "8ecfcc17",
   "metadata": {},
   "outputs": [
    {
     "data": {
      "text/plain": [
       "'a'"
      ]
     },
     "execution_count": 5,
     "metadata": {},
     "output_type": "execute_result"
    }
   ],
   "source": [
    "a[1]"
   ]
  },
  {
   "cell_type": "code",
   "execution_count": 6,
   "id": "8ad629b4",
   "metadata": {},
   "outputs": [
    {
     "data": {
      "text/plain": [
       "'o'"
      ]
     },
     "execution_count": 6,
     "metadata": {},
     "output_type": "execute_result"
    }
   ],
   "source": [
    "a[3]"
   ]
  },
  {
   "cell_type": "code",
   "execution_count": 7,
   "id": "97c811ac",
   "metadata": {},
   "outputs": [
    {
     "data": {
      "text/plain": [
       "'a'"
      ]
     },
     "execution_count": 7,
     "metadata": {},
     "output_type": "execute_result"
    }
   ],
   "source": [
    "a[12]"
   ]
  },
  {
   "cell_type": "code",
   "execution_count": 8,
   "id": "98f6337e",
   "metadata": {},
   "outputs": [
    {
     "data": {
      "text/plain": [
       "'Samos'"
      ]
     },
     "execution_count": 8,
     "metadata": {},
     "output_type": "execute_result"
    }
   ],
   "source": [
    "a[0:5]"
   ]
  },
  {
   "cell_type": "code",
   "execution_count": 9,
   "id": "0ab897ca",
   "metadata": {},
   "outputs": [
    {
     "data": {
      "text/plain": [
       "'P'"
      ]
     },
     "execution_count": 9,
     "metadata": {},
     "output_type": "execute_result"
    }
   ],
   "source": [
    "a[0-6]"
   ]
  },
  {
   "cell_type": "code",
   "execution_count": 10,
   "id": "0f07fb3c",
   "metadata": {},
   "outputs": [
    {
     "data": {
      "text/plain": [
       "'Samosa Pakora'"
      ]
     },
     "execution_count": 10,
     "metadata": {},
     "output_type": "execute_result"
    }
   ],
   "source": [
    "#exclusive element is the last one # or last index is exclusive\n",
    "a[0:13]"
   ]
  },
  {
   "cell_type": "code",
   "execution_count": 11,
   "id": "8c1acb1b",
   "metadata": {},
   "outputs": [
    {
     "data": {
      "text/plain": [
       "'Pakora'"
      ]
     },
     "execution_count": 11,
     "metadata": {},
     "output_type": "execute_result"
    }
   ],
   "source": [
    "a[-6:13]"
   ]
  },
  {
   "cell_type": "code",
   "execution_count": 12,
   "id": "2c163ac1",
   "metadata": {},
   "outputs": [
    {
     "data": {
      "text/plain": [
       "'r'"
      ]
     },
     "execution_count": 12,
     "metadata": {},
     "output_type": "execute_result"
    }
   ],
   "source": [
    "a[-2]"
   ]
  },
  {
   "cell_type": "code",
   "execution_count": 13,
   "id": "f44716b9",
   "metadata": {},
   "outputs": [
    {
     "data": {
      "text/plain": [
       "'Biryani'"
      ]
     },
     "execution_count": 13,
     "metadata": {},
     "output_type": "execute_result"
    }
   ],
   "source": [
    "food =\"Biryani\"\n",
    "food"
   ]
  },
  {
   "cell_type": "markdown",
   "id": "d923a776",
   "metadata": {},
   "source": [
    "  # string methods"
   ]
  },
  {
   "cell_type": "code",
   "execution_count": 14,
   "id": "4e116c74",
   "metadata": {},
   "outputs": [
    {
     "data": {
      "text/plain": [
       "'Biryani'"
      ]
     },
     "execution_count": 14,
     "metadata": {},
     "output_type": "execute_result"
    }
   ],
   "source": [
    "food"
   ]
  },
  {
   "cell_type": "code",
   "execution_count": 15,
   "id": "4f0dd3f0",
   "metadata": {},
   "outputs": [
    {
     "data": {
      "text/plain": [
       "7"
      ]
     },
     "execution_count": 15,
     "metadata": {},
     "output_type": "execute_result"
    }
   ],
   "source": [
    "len(food)"
   ]
  },
  {
   "cell_type": "code",
   "execution_count": 16,
   "id": "c23e8dd8",
   "metadata": {},
   "outputs": [
    {
     "data": {
      "text/plain": [
       "'Biryani'"
      ]
     },
     "execution_count": 16,
     "metadata": {},
     "output_type": "execute_result"
    }
   ],
   "source": [
    "# capitalize every element\n",
    "food.capitalize()"
   ]
  },
  {
   "cell_type": "code",
   "execution_count": 17,
   "id": "699e8a24",
   "metadata": {},
   "outputs": [
    {
     "data": {
      "text/plain": [
       "'BIRYANI'"
      ]
     },
     "execution_count": 17,
     "metadata": {},
     "output_type": "execute_result"
    }
   ],
   "source": [
    "# uppercase letters\n",
    "food.upper()"
   ]
  },
  {
   "cell_type": "code",
   "execution_count": 18,
   "id": "2673b441",
   "metadata": {},
   "outputs": [
    {
     "data": {
      "text/plain": [
       "'biryani'"
      ]
     },
     "execution_count": 18,
     "metadata": {},
     "output_type": "execute_result"
    }
   ],
   "source": [
    "# lowercase letters\n",
    "food.lower()"
   ]
  },
  {
   "cell_type": "code",
   "execution_count": 19,
   "id": "b1546bd8",
   "metadata": {},
   "outputs": [
    {
     "data": {
      "text/plain": [
       "'Shiryani'"
      ]
     },
     "execution_count": 19,
     "metadata": {},
     "output_type": "execute_result"
    }
   ],
   "source": [
    "# replace\n",
    "food.replace(\"B\",\"Sh\")"
   ]
  },
  {
   "cell_type": "code",
   "execution_count": 20,
   "id": "e6864a88",
   "metadata": {},
   "outputs": [
    {
     "data": {
      "text/plain": [
       "'baba_Ammar with Dr Ammar Tufail'"
      ]
     },
     "execution_count": 20,
     "metadata": {},
     "output_type": "execute_result"
    }
   ],
   "source": [
    "# counting a specific alphabet in a string\n",
    "name = \"baba_Ammar with Dr Ammar Tufail\"\n",
    "name"
   ]
  },
  {
   "cell_type": "code",
   "execution_count": 21,
   "id": "81b04fb9",
   "metadata": {},
   "outputs": [
    {
     "data": {
      "text/plain": [
       "5"
      ]
     },
     "execution_count": 21,
     "metadata": {},
     "output_type": "execute_result"
    }
   ],
   "source": [
    "name.count(\"a\")"
   ]
  },
  {
   "cell_type": "markdown",
   "id": "9dfa1f44",
   "metadata": {},
   "source": [
    "### - finding a index number in string"
   ]
  },
  {
   "cell_type": "code",
   "execution_count": 22,
   "id": "a870ee23",
   "metadata": {},
   "outputs": [
    {
     "data": {
      "text/plain": [
       "'baba_Ammar with Dr Ammar Tufail'"
      ]
     },
     "execution_count": 22,
     "metadata": {},
     "output_type": "execute_result"
    }
   ],
   "source": [
    "name = \"baba_Ammar with Dr Ammar Tufail\"\n",
    "name"
   ]
  },
  {
   "cell_type": "code",
   "execution_count": 23,
   "id": "2f5281d3",
   "metadata": {},
   "outputs": [
    {
     "data": {
      "text/plain": [
       "16"
      ]
     },
     "execution_count": 23,
     "metadata": {},
     "output_type": "execute_result"
    }
   ],
   "source": [
    "name.find(\"D\")"
   ]
  },
  {
   "cell_type": "code",
   "execution_count": 24,
   "id": "d149705e",
   "metadata": {},
   "outputs": [
    {
     "data": {
      "text/plain": [
       "'I love samosa,pakora,raita,biryani and karahi'"
      ]
     },
     "execution_count": 24,
     "metadata": {},
     "output_type": "execute_result"
    }
   ],
   "source": [
    "### - how to split a string\n",
    "food =\"I love samosa,pakora,raita,biryani and karahi\"\n",
    "food"
   ]
  },
  {
   "cell_type": "code",
   "execution_count": 25,
   "id": "8267e670",
   "metadata": {},
   "outputs": [
    {
     "data": {
      "text/plain": [
       "['I love samosa', 'pakora', 'raita', 'biryani and karahi']"
      ]
     },
     "execution_count": 25,
     "metadata": {},
     "output_type": "execute_result"
    }
   ],
   "source": [
    "food.split(\",\")"
   ]
  },
  {
   "cell_type": "markdown",
   "id": "d7495301",
   "metadata": {},
   "source": [
    "###   Basic data structures in Python\n",
    "     tuple\n",
    "     list\n",
    "    dictionaries\n",
    "      set "
   ]
  },
  {
   "cell_type": "markdown",
   "id": "61970105",
   "metadata": {},
   "source": [
    "### 1- Tuple"
   ]
  },
  {
   "cell_type": "code",
   "execution_count": 26,
   "id": "d93191a3",
   "metadata": {},
   "outputs": [],
   "source": [
    "# ordered collection of elements\n",
    "# enclosed in round braces/parenthesis\n",
    "# different kinds of elements can be stored\n",
    "# once elements are stored u can not change them un mutatable"
   ]
  },
  {
   "cell_type": "code",
   "execution_count": 27,
   "id": "5ad7def3",
   "metadata": {},
   "outputs": [
    {
     "data": {
      "text/plain": [
       "(1, 'Python', True, -3)"
      ]
     },
     "execution_count": 27,
     "metadata": {},
     "output_type": "execute_result"
    }
   ],
   "source": [
    "tup1 = (1, \"Python\", True, 2-5)\n",
    "tup1"
   ]
  },
  {
   "cell_type": "code",
   "execution_count": 28,
   "id": "42dde232",
   "metadata": {},
   "outputs": [
    {
     "data": {
      "text/plain": [
       "tuple"
      ]
     },
     "execution_count": 28,
     "metadata": {},
     "output_type": "execute_result"
    }
   ],
   "source": [
    "# type of a tuple\n",
    "type(tup1)"
   ]
  },
  {
   "cell_type": "markdown",
   "id": "6c525b46",
   "metadata": {},
   "source": [
    "  ### -Indexing in tuple"
   ]
  },
  {
   "cell_type": "code",
   "execution_count": 29,
   "id": "03d3e861",
   "metadata": {},
   "outputs": [
    {
     "data": {
      "text/plain": [
       "'Python'"
      ]
     },
     "execution_count": 29,
     "metadata": {},
     "output_type": "execute_result"
    }
   ],
   "source": [
    "tup1 [1]"
   ]
  },
  {
   "cell_type": "code",
   "execution_count": 30,
   "id": "c17336a2",
   "metadata": {},
   "outputs": [
    {
     "data": {
      "text/plain": [
       "True"
      ]
     },
     "execution_count": 30,
     "metadata": {},
     "output_type": "execute_result"
    }
   ],
   "source": [
    "tup1[2]"
   ]
  },
  {
   "cell_type": "code",
   "execution_count": 31,
   "id": "f5519283",
   "metadata": {},
   "outputs": [
    {
     "data": {
      "text/plain": [
       "(1, 'Python', True, -3)"
      ]
     },
     "execution_count": 31,
     "metadata": {},
     "output_type": "execute_result"
    }
   ],
   "source": [
    "# last element is exclusive\n",
    "tup1[0:5]"
   ]
  },
  {
   "cell_type": "code",
   "execution_count": 32,
   "id": "008781e6",
   "metadata": {},
   "outputs": [
    {
     "data": {
      "text/plain": [
       "4"
      ]
     },
     "execution_count": 32,
     "metadata": {},
     "output_type": "execute_result"
    }
   ],
   "source": [
    "#count of elements in tuple\n",
    "len(tup1)"
   ]
  },
  {
   "cell_type": "code",
   "execution_count": 33,
   "id": "2305a105",
   "metadata": {},
   "outputs": [
    {
     "data": {
      "text/plain": [
       "(2, 'babaAmmar', 3.5, False)"
      ]
     },
     "execution_count": 33,
     "metadata": {},
     "output_type": "execute_result"
    }
   ],
   "source": [
    "tup2=(2,\"babaAmmar\",3.5,False)\n",
    "tup2"
   ]
  },
  {
   "cell_type": "code",
   "execution_count": 34,
   "id": "f4072aac",
   "metadata": {},
   "outputs": [
    {
     "data": {
      "text/plain": [
       "(1, 'Python', True, -3, 2, 'babaAmmar', 3.5, False)"
      ]
     },
     "execution_count": 34,
     "metadata": {},
     "output_type": "execute_result"
    }
   ],
   "source": [
    "#concatinate jama karna/to add 2 tuples or more than 2\n",
    "tup1+tup2"
   ]
  },
  {
   "cell_type": "code",
   "execution_count": 35,
   "id": "2bf41bbc",
   "metadata": {},
   "outputs": [
    {
     "data": {
      "text/plain": [
       "(1, 'Python', True, -3, 1, 'Python', True, -3, 2, 'babaAmmar', 3.5, False)"
      ]
     },
     "execution_count": 35,
     "metadata": {},
     "output_type": "execute_result"
    }
   ],
   "source": [
    "#concatinate plus repeat \n",
    "tup1*2 + tup2"
   ]
  },
  {
   "cell_type": "code",
   "execution_count": 36,
   "id": "8d17fb31",
   "metadata": {},
   "outputs": [
    {
     "data": {
      "text/plain": [
       "(20, 50, 35, 60, 35, 45)"
      ]
     },
     "execution_count": 36,
     "metadata": {},
     "output_type": "execute_result"
    }
   ],
   "source": [
    "tup3=(20,50,35,60,35,45,)\n",
    "tup3"
   ]
  },
  {
   "cell_type": "code",
   "execution_count": 37,
   "id": "10f0ac31",
   "metadata": {},
   "outputs": [
    {
     "data": {
      "text/plain": [
       "20"
      ]
     },
     "execution_count": 37,
     "metadata": {},
     "output_type": "execute_result"
    }
   ],
   "source": [
    "#minimum value\n",
    "min(tup3)"
   ]
  },
  {
   "cell_type": "code",
   "execution_count": 38,
   "id": "03438a83",
   "metadata": {},
   "outputs": [
    {
     "data": {
      "text/plain": [
       "60"
      ]
     },
     "execution_count": 38,
     "metadata": {},
     "output_type": "execute_result"
    }
   ],
   "source": [
    "#maximum value\n",
    "max(tup3)"
   ]
  },
  {
   "cell_type": "code",
   "execution_count": 39,
   "id": "2b952a66",
   "metadata": {},
   "outputs": [
    {
     "ename": "NameError",
     "evalue": "name 'tup2b' is not defined",
     "output_type": "error",
     "traceback": [
      "\u001b[1;31m---------------------------------------------------------------------------\u001b[0m",
      "\u001b[1;31mNameError\u001b[0m                                 Traceback (most recent call last)",
      "Input \u001b[1;32mIn [39]\u001b[0m, in \u001b[0;36m<cell line: 1>\u001b[1;34m()\u001b[0m\n\u001b[1;32m----> 1\u001b[0m tup1\u001b[38;5;241m*\u001b[39m\u001b[38;5;241m3\u001b[39m \u001b[38;5;241m+\u001b[39m\u001b[43mtup2b\u001b[49m\n",
      "\u001b[1;31mNameError\u001b[0m: name 'tup2b' is not defined"
     ]
    }
   ],
   "source": [
    "tup1*3 +tup2b"
   ]
  },
  {
   "cell_type": "markdown",
   "id": "640a1dce",
   "metadata": {},
   "source": [
    "___"
   ]
  },
  {
   "cell_type": "markdown",
   "id": "5009705a",
   "metadata": {},
   "source": [
    "## 2- List\n",
    "-ordered collection of elements\n",
    "\n",
    "-enclosed in []square brackets\n",
    "\n",
    "-mutatable you can the values"
   ]
  },
  {
   "cell_type": "code",
   "execution_count": null,
   "id": "aa34304a",
   "metadata": {},
   "outputs": [],
   "source": [
    "list1 =[2,\"babaAmmar\",False]\n",
    "list1"
   ]
  },
  {
   "cell_type": "code",
   "execution_count": null,
   "id": "a59dab74",
   "metadata": {},
   "outputs": [],
   "source": [
    "#type(list1)"
   ]
  },
  {
   "cell_type": "code",
   "execution_count": null,
   "id": "25eedf2a",
   "metadata": {},
   "outputs": [],
   "source": [
    "len(list1)"
   ]
  },
  {
   "cell_type": "code",
   "execution_count": null,
   "id": "f783dab3",
   "metadata": {},
   "outputs": [],
   "source": [
    "list1[2]"
   ]
  },
  {
   "cell_type": "code",
   "execution_count": null,
   "id": "43e5597a",
   "metadata": {},
   "outputs": [],
   "source": [
    "list2 =[3,5,\"Ammar\",\"codanics\",478,53.2,False]\n",
    "list2"
   ]
  },
  {
   "cell_type": "code",
   "execution_count": null,
   "id": "73f18abf",
   "metadata": {},
   "outputs": [],
   "source": [
    "list1+list2"
   ]
  },
  {
   "cell_type": "code",
   "execution_count": null,
   "id": "9e7a6cd0",
   "metadata": {},
   "outputs": [],
   "source": [
    "list1*2 "
   ]
  },
  {
   "cell_type": "code",
   "execution_count": null,
   "id": "c25bc5be",
   "metadata": {},
   "outputs": [],
   "source": [
    "list1.reverse()\n",
    "list1"
   ]
  },
  {
   "cell_type": "code",
   "execution_count": null,
   "id": "86d960bd",
   "metadata": {},
   "outputs": [],
   "source": [
    "list1.append(\"codanics youtube channel\")\n",
    "list1"
   ]
  },
  {
   "cell_type": "code",
   "execution_count": null,
   "id": "a37a9c95",
   "metadata": {},
   "outputs": [],
   "source": [
    "list1.count(2)"
   ]
  },
  {
   "cell_type": "code",
   "execution_count": null,
   "id": "818a31cb",
   "metadata": {},
   "outputs": [],
   "source": [
    "list3 =[29,30,50,40,15,12,13,46,55,67,85,99]\n",
    "list3"
   ]
  },
  {
   "cell_type": "code",
   "execution_count": null,
   "id": "6e8fb546",
   "metadata": {},
   "outputs": [],
   "source": [
    "len(list3)"
   ]
  },
  {
   "cell_type": "code",
   "execution_count": null,
   "id": "71c369cf",
   "metadata": {},
   "outputs": [],
   "source": [
    "#sorting a list\n",
    "list3.sort()\n",
    "list3"
   ]
  },
  {
   "cell_type": "code",
   "execution_count": null,
   "id": "fe244009",
   "metadata": {
    "scrolled": true
   },
   "outputs": [],
   "source": [
    "list2*3"
   ]
  },
  {
   "cell_type": "code",
   "execution_count": null,
   "id": "85899b41",
   "metadata": {},
   "outputs": [],
   "source": [
    "lists= list1 + list2\n",
    "lists"
   ]
  },
  {
   "cell_type": "markdown",
   "id": "f9f95a4f",
   "metadata": {},
   "source": [
    "_________________"
   ]
  },
  {
   "cell_type": "markdown",
   "id": "771b048f",
   "metadata": {},
   "source": [
    "## 3- Dictionaries\n",
    "\n",
    "-an unordered collection of elements\n",
    "\n",
    "-key and value\n",
    "\n",
    "-curly braces or brackets()\n",
    "\n",
    "-change the values mutatble"
   ]
  },
  {
   "cell_type": "code",
   "execution_count": 24,
   "id": "faea278b",
   "metadata": {},
   "outputs": [
    {
     "data": {
      "text/plain": [
       "{'Samosa': 30, 'Raita': 20, 'Pakora': 100, 'Salad': 50, 'Chicken rolls': 30}"
      ]
     },
     "execution_count": 24,
     "metadata": {},
     "output_type": "execute_result"
    }
   ],
   "source": [
    "#food and their prices\n",
    "food1= {\"Samosa\": 30,  \"Raita\": 20,  \"Pakora\": 100,  \"Salad\": 50,  \"Chicken rolls\": 30}\n",
    "food1"
   ]
  },
  {
   "cell_type": "code",
   "execution_count": 25,
   "id": "f165d033",
   "metadata": {},
   "outputs": [
    {
     "data": {
      "text/plain": [
       "dict"
      ]
     },
     "execution_count": 25,
     "metadata": {},
     "output_type": "execute_result"
    }
   ],
   "source": [
    "type(food1)"
   ]
  },
  {
   "cell_type": "code",
   "execution_count": 27,
   "id": "f8ce86d8",
   "metadata": {},
   "outputs": [
    {
     "data": {
      "text/plain": [
       "dict_keys(['Samosa', 'Raita', 'Pakora', 'Salad', 'Chicken rolls'])"
      ]
     },
     "execution_count": 27,
     "metadata": {},
     "output_type": "execute_result"
    }
   ],
   "source": [
    "#extract data\n",
    "keys1= food1.keys()\n",
    "keys1"
   ]
  },
  {
   "cell_type": "code",
   "execution_count": 30,
   "id": "23b9e8ee",
   "metadata": {},
   "outputs": [
    {
     "data": {
      "text/plain": [
       "dict_values([30, 20, 100, 50, 30])"
      ]
     },
     "execution_count": 30,
     "metadata": {},
     "output_type": "execute_result"
    }
   ],
   "source": [
    "values1 = food1.values()\n",
    "values1"
   ]
  },
  {
   "cell_type": "code",
   "execution_count": 38,
   "id": "4fafca0c",
   "metadata": {},
   "outputs": [
    {
     "data": {
      "text/plain": [
       "{'Samosa': 30,\n",
       " 'Raita': 20,\n",
       " 'Pakora': 100,\n",
       " 'Salad': 50,\n",
       " 'Chicken rolls': 30,\n",
       " 'tikki': 10}"
      ]
     },
     "execution_count": 38,
     "metadata": {},
     "output_type": "execute_result"
    }
   ],
   "source": [
    "#adding new element\n",
    "food1[\"tikki\"]=10\n",
    "food1"
   ]
  },
  {
   "cell_type": "code",
   "execution_count": 40,
   "id": "fe418b46",
   "metadata": {},
   "outputs": [
    {
     "data": {
      "text/plain": [
       "{'Samosa': 30,\n",
       " 'Raita': 20,\n",
       " 'Pakora': 100,\n",
       " 'Salad': 50,\n",
       " 'Chicken rolls': 30,\n",
       " 'tikki': 10,\n",
       " 'Tikki': 15}"
      ]
     },
     "execution_count": 40,
     "metadata": {},
     "output_type": "execute_result"
    }
   ],
   "source": [
    "#update the values\n",
    "food1[\"Tikki\"]=15\n",
    "food1"
   ]
  },
  {
   "cell_type": "code",
   "execution_count": 42,
   "id": "21ee7f53",
   "metadata": {},
   "outputs": [
    {
     "data": {
      "text/plain": [
       "{'dates': 50, 'choclates': 200, 'sawaiaan': 1000}"
      ]
     },
     "execution_count": 42,
     "metadata": {},
     "output_type": "execute_result"
    }
   ],
   "source": [
    "food2 = {\"dates\":50, \"choclates\":200, \"sawaiaan\":1000}\n",
    "food2"
   ]
  },
  {
   "cell_type": "code",
   "execution_count": 45,
   "id": "6589f9e3",
   "metadata": {},
   "outputs": [],
   "source": [
    "#concatinate\n",
    "food1.update(food2)"
   ]
  },
  {
   "cell_type": "code",
   "execution_count": 46,
   "id": "8c71d8fb",
   "metadata": {},
   "outputs": [
    {
     "data": {
      "text/plain": [
       "{'Samosa': 30,\n",
       " 'Raita': 20,\n",
       " 'Pakora': 100,\n",
       " 'Salad': 50,\n",
       " 'Chicken rolls': 30,\n",
       " 'tikki': 10,\n",
       " 'Tikki': 15,\n",
       " 'dates': 50,\n",
       " 'choclates': 200,\n",
       " 'sawaiaan': 1000}"
      ]
     },
     "execution_count": 46,
     "metadata": {},
     "output_type": "execute_result"
    }
   ],
   "source": [
    "food1"
   ]
  },
  {
   "cell_type": "markdown",
   "id": "58f97428",
   "metadata": {},
   "source": [
    "## 4-Sets\n",
    "   -unordered and unindexed\n",
    "   \n",
    "    -curly braces are used{}\n",
    "    \n",
    "    -no duplicates allowed"
   ]
  },
  {
   "cell_type": "code",
   "execution_count": 48,
   "id": "aa4d4a2e",
   "metadata": {},
   "outputs": [
    {
     "data": {
      "text/plain": [
       "{1, 2.1, 5.2, 'Ammar', 'Faisalabad', 'codanics'}"
      ]
     },
     "execution_count": 48,
     "metadata": {},
     "output_type": "execute_result"
    }
   ],
   "source": [
    "s1 = {1,2.1,5.2,\"Ammar\",\"codanics\",\"Faisalabad\",True}\n",
    "s1"
   ]
  },
  {
   "cell_type": "code",
   "execution_count": 51,
   "id": "31158729",
   "metadata": {},
   "outputs": [],
   "source": [
    "s1.add(\"Ammar1\")"
   ]
  },
  {
   "cell_type": "code",
   "execution_count": 52,
   "id": "660a9f22",
   "metadata": {},
   "outputs": [
    {
     "data": {
      "text/plain": [
       "{1, 2.1, 5.2, 'Ammar', 'Ammar1', 'Faisalabad', 'codanics'}"
      ]
     },
     "execution_count": 52,
     "metadata": {},
     "output_type": "execute_result"
    }
   ],
   "source": [
    "s1"
   ]
  },
  {
   "cell_type": "code",
   "execution_count": 53,
   "id": "53389389",
   "metadata": {},
   "outputs": [],
   "source": [
    "s1.remove(\"Ammar1\")"
   ]
  },
  {
   "cell_type": "code",
   "execution_count": 54,
   "id": "1ae6ebdc",
   "metadata": {},
   "outputs": [
    {
     "data": {
      "text/plain": [
       "{1, 2.1, 5.2, 'Ammar', 'Faisalabad', 'codanics'}"
      ]
     },
     "execution_count": 54,
     "metadata": {},
     "output_type": "execute_result"
    }
   ],
   "source": [
    " s1"
   ]
  },
  {
   "cell_type": "code",
   "execution_count": 57,
   "id": "29abb0d2",
   "metadata": {},
   "outputs": [
    {
     "data": {
      "text/plain": [
       "{1, 2.1, 5.2, 'A', 'Ammar', 'Faisalabad', 'a', 'codanics', 'm', 'r'}"
      ]
     },
     "execution_count": 57,
     "metadata": {},
     "output_type": "execute_result"
    }
   ],
   "source": [
    "s1.union(\"Ammar\")"
   ]
  },
  {
   "cell_type": "code",
   "execution_count": 59,
   "id": "617a5c99",
   "metadata": {},
   "outputs": [
    {
     "data": {
      "text/plain": [
       "{1, 2.1, 5.2, 'Ammar', 'Faisalabad', 'codanics'}"
      ]
     },
     "execution_count": 59,
     "metadata": {},
     "output_type": "execute_result"
    }
   ],
   "source": [
    "s1.copy()"
   ]
  },
  {
   "cell_type": "code",
   "execution_count": 72,
   "id": "118e8488",
   "metadata": {},
   "outputs": [
    {
     "data": {
      "text/plain": [
       "{1, 2.1, 5.2, 'Ammar', 'Faisalabad', 'codanics'}"
      ]
     },
     "execution_count": 72,
     "metadata": {},
     "output_type": "execute_result"
    }
   ],
   "source": [
    "s1.difference()"
   ]
  },
  {
   "cell_type": "code",
   "execution_count": 73,
   "id": "f4bf8feb",
   "metadata": {},
   "outputs": [],
   "source": [
    "s1.difference_update()"
   ]
  },
  {
   "cell_type": "code",
   "execution_count": 75,
   "id": "8d004cb2",
   "metadata": {},
   "outputs": [
    {
     "data": {
      "text/plain": [
       "set()"
      ]
     },
     "execution_count": 75,
     "metadata": {},
     "output_type": "execute_result"
    }
   ],
   "source": [
    "s1.intersection(\"Faisalabad\")"
   ]
  },
  {
   "cell_type": "code",
   "execution_count": null,
   "id": "be63b1f3",
   "metadata": {},
   "outputs": [],
   "source": []
  }
 ],
 "metadata": {
  "kernelspec": {
   "display_name": "Python 3 (ipykernel)",
   "language": "python",
   "name": "python3"
  },
  "language_info": {
   "codemirror_mode": {
    "name": "ipython",
    "version": 3
   },
   "file_extension": ".py",
   "mimetype": "text/x-python",
   "name": "python",
   "nbconvert_exporter": "python",
   "pygments_lexer": "ipython3",
   "version": "3.9.12"
  }
 },
 "nbformat": 4,
 "nbformat_minor": 5
}
