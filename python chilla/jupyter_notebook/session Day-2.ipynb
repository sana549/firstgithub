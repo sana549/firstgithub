{
 "cells": [
  {
   "cell_type": "markdown",
   "id": "d32c5818",
   "metadata": {},
   "source": [
    "# body mass index BMI\n",
    "# input weight\n",
    "# height \n",
    "# BMI (ask yourself your height)\n",
    "# weight\n",
    "# Calculate BMI\n",
    "# print BMI(My name is ... and my BMI is...)"
   ]
  },
  {
   "cell_type": "code",
   "execution_count": 16,
   "id": "0eccf8cc",
   "metadata": {},
   "outputs": [],
   "source": [
    "# weight in kilogram/height in m and its square"
   ]
  },
  {
   "cell_type": "code",
   "execution_count": 17,
   "id": "35beb951",
   "metadata": {},
   "outputs": [
    {
     "name": "stdout",
     "output_type": "stream",
     "text": [
      "What is your height? 1.65\n"
     ]
    }
   ],
   "source": [
    "height = input(\"What is your height? \")"
   ]
  },
  {
   "cell_type": "code",
   "execution_count": 18,
   "id": "27492aec",
   "metadata": {},
   "outputs": [],
   "source": [
    "height = float(height)"
   ]
  },
  {
   "cell_type": "code",
   "execution_count": 19,
   "id": "8cd2c8b1",
   "metadata": {
    "scrolled": true
   },
   "outputs": [
    {
     "name": "stdout",
     "output_type": "stream",
     "text": [
      "What is your weight? 60\n"
     ]
    }
   ],
   "source": [
    "weight = input(\"What is your weight? \")"
   ]
  },
  {
   "cell_type": "code",
   "execution_count": 20,
   "id": "731c6ac8",
   "metadata": {},
   "outputs": [],
   "source": [
    "weight = float(weight)"
   ]
  },
  {
   "cell_type": "code",
   "execution_count": 21,
   "id": "13443cde",
   "metadata": {},
   "outputs": [
    {
     "name": "stdout",
     "output_type": "stream",
     "text": [
      "What is your name? Sana\n"
     ]
    }
   ],
   "source": [
    "name = input(\"What is your name? \")"
   ]
  },
  {
   "cell_type": "code",
   "execution_count": 22,
   "id": "f1e4808f",
   "metadata": {},
   "outputs": [
    {
     "data": {
      "text/plain": [
       "22.03856749311295"
      ]
     },
     "execution_count": 22,
     "metadata": {},
     "output_type": "execute_result"
    }
   ],
   "source": [
    "BMI = weight/height**2\n",
    "BMI"
   ]
  },
  {
   "cell_type": "code",
   "execution_count": 23,
   "id": "a89dca4f",
   "metadata": {},
   "outputs": [
    {
     "name": "stdout",
     "output_type": "stream",
     "text": [
      "My name is Sana and my BMI is 22.03856749311295\n"
     ]
    }
   ],
   "source": [
    "print(\"My name is\", name, \"and my BMI is\", BMI)"
   ]
  },
  {
   "cell_type": "code",
   "execution_count": 30,
   "id": "6b876143",
   "metadata": {},
   "outputs": [],
   "source": [
    "import seaborn"
   ]
  },
  {
   "cell_type": "code",
   "execution_count": 34,
   "id": "3d1a2fe3",
   "metadata": {},
   "outputs": [],
   "source": [
    "import matplotlib"
   ]
  },
  {
   "cell_type": "code",
   "execution_count": 35,
   "id": "cea9f1fd",
   "metadata": {},
   "outputs": [],
   "source": [
    "import pandas"
   ]
  },
  {
   "cell_type": "code",
   "execution_count": 36,
   "id": "559a439d",
   "metadata": {},
   "outputs": [],
   "source": [
    "import numpy"
   ]
  },
  {
   "cell_type": "code",
   "execution_count": null,
   "id": "a4ada96a",
   "metadata": {},
   "outputs": [],
   "source": []
  }
 ],
 "metadata": {
  "kernelspec": {
   "display_name": "Python 3 (ipykernel)",
   "language": "python",
   "name": "python3"
  },
  "language_info": {
   "codemirror_mode": {
    "name": "ipython",
    "version": 3
   },
   "file_extension": ".py",
   "mimetype": "text/x-python",
   "name": "python",
   "nbconvert_exporter": "python",
   "pygments_lexer": "ipython3",
   "version": "3.9.12"
  }
 },
 "nbformat": 4,
 "nbformat_minor": 5
}
