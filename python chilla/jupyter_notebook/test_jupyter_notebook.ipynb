{
 "cells": [
  {
   "cell_type": "markdown",
   "id": "efe38ab7",
   "metadata": {},
   "source": [
    "# Python ka Chilla with Sir Ammar\n",
    "## How to use Jupyter notebook\n",
    "### Basics of Python\n",
    "1- My frst program "
   ]
  },
  {
   "cell_type": "code",
   "execution_count": 1,
   "id": "22ba1320",
   "metadata": {},
   "outputs": [
    {
     "name": "stdout",
     "output_type": "stream",
     "text": [
      "5\n",
      "Hello World\n",
      "We are learning python with Sir Ammar\n"
     ]
    }
   ],
   "source": [
    "print(2+3)\n",
    "print(\"Hello World\")\n",
    "print(\"We are learning python with Sir Ammar\")"
   ]
  },
  {
   "cell_type": "markdown",
   "id": "c4ede7c2",
   "metadata": {},
   "source": [
    "   **02_operators**"
   ]
  },
  {
   "cell_type": "code",
   "execution_count": 2,
   "id": "42f05ecf",
   "metadata": {},
   "outputs": [
    {
     "name": "stdout",
     "output_type": "stream",
     "text": [
      "0\n",
      "3\n",
      "3.0\n",
      "6\n",
      "1\n",
      "3\n",
      "8\n",
      "6.5\n"
     ]
    }
   ],
   "source": [
    "print(3-3)\n",
    "print(2+1)\n",
    "print(6/2)\n",
    "print(2*3)\n",
    "print(13%2)\n",
    "print(6//2)\n",
    "print(2**3)\n",
    "\n",
    "print(3**2/2*3/3+6-4)\n"
   ]
  },
  {
   "cell_type": "markdown",
   "id": "792e8ae2",
   "metadata": {},
   "source": [
    "*PEMDAS*\n",
    "parenthesis Exponents multiply divide addition subtraction\n",
    "left to right for m d & a s\n"
   ]
  },
  {
   "cell_type": "markdown",
   "id": "151cd73c",
   "metadata": {},
   "source": [
    "   **03_strings**"
   ]
  },
  {
   "cell_type": "code",
   "execution_count": 3,
   "id": "7b6467d7",
   "metadata": {},
   "outputs": [
    {
     "name": "stdout",
     "output_type": "stream",
     "text": [
      "Hello World\n",
      "We are learning python with Sir Ammar\n",
      "test for single quotes\n",
      "test for double quotes\n",
      "test for triple quotes\n",
      "what's up?\n",
      "My name is Sana.\n"
     ]
    }
   ],
   "source": [
    "print(\"Hello World\")\n",
    "print(\"We are learning python with Sir Ammar\")\n",
    "print('test for single quotes')\n",
    "print(\"test for double quotes\")\n",
    "print('''test for triple quotes''')\n",
    "print(\"what's up?\")\n",
    "print(\"My name is Sana.\")"
   ]
  },
  {
   "cell_type": "markdown",
   "id": "ecf4fd87",
   "metadata": {},
   "source": [
    "### 04_comments"
   ]
  },
  {
   "cell_type": "code",
   "execution_count": 4,
   "id": "9c9c6be3",
   "metadata": {},
   "outputs": [
    {
     "name": "stdout",
     "output_type": "stream",
     "text": [
      "How are you?\n",
      "We are learning python with Ammar\n",
      "5\n"
     ]
    }
   ],
   "source": [
    "print(\"How are you?\")    #use these to comment out ctrl+ /\n",
    "print(\"We are learning python with Ammar\") #print a string\n",
    "print(2+3)"
   ]
  },
  {
   "cell_type": "markdown",
   "id": "7c4f5ae3",
   "metadata": {},
   "source": [
    "## 05_Variables"
   ]
  },
  {
   "cell_type": "code",
   "execution_count": 6,
   "id": "d536b353",
   "metadata": {},
   "outputs": [
    {
     "name": "stdout",
     "output_type": "stream",
     "text": [
      "5\n",
      "We are learning python with Ammar\n",
      "15\n",
      "<class 'int'>\n",
      "<class 'str'>\n",
      "<class 'int'>\n",
      "15\n"
     ]
    }
   ],
   "source": [
    "x = 5 #numeric or integer variable\n",
    "print(x)\n",
    "y=\"We are learning python with Ammar\"  #string variables\n",
    "print(y)\n",
    "x = 15\n",
    "print(x)\n",
    "# types of variables / class of variables\n",
    "type(x)\n",
    "print(type(x))\n",
    "print(type(y))\n",
    "#print_type_class\n",
    "fruit_basket=8\n",
    "fruit_basket= 15\n",
    "print(type(fruit_basket))\n",
    "print(fruit_basket)"
   ]
  },
  {
   "cell_type": "markdown",
   "id": "54e501a9",
   "metadata": {},
   "source": [
    "### rules to assign a variable\n",
    "### 1- the variable shpuld contain letter, numbers or underscores\n",
    "### 2- do not strt with numbers\n",
    "### 3- spaces are not allowed\n",
    "### 4- donot use keywords used in functions (break,mean,media,test etc.)\n",
    "### 5- short and discriptive\n",
    "### 6- case sensitvity (lower case letters and upper case letters lower case letters should be used)\n"
   ]
  },
  {
   "cell_type": "code",
   "execution_count": 7,
   "id": "7d4ec456",
   "metadata": {},
   "outputs": [
    {
     "name": "stdout",
     "output_type": "stream",
     "text": [
      "what is your name? Sana\n",
      "Hello Sana\n",
      "What is your name? Sana\n",
      "how old are you? 18\n",
      "Hello Sana you are still young\n"
     ]
    }
   ],
   "source": [
    "# fruit_basket=\"Mangoes\"\n",
    "# print(fruit_basket)\n",
    "#input function\n",
    "# fruit_basket=input(\"what is your favourite fruit? \")\n",
    "# print(fruit_basket)\n",
    "#input function of 2nd stage\n",
    "name= input(\"what is your name? \")\n",
    "greetings=\"Hello\"\n",
    "print(greetings,name)\n",
    "#another way of stage 2 input function\n",
    "# name= input (\"What is your name? \")\n",
    "#print(\"Hello\",name)\n",
    "# 3rd stage of input function\n",
    "name= input(\"What is your name? \")\n",
    "age= input(\"how old are you? \")\n",
    "greetings=\"Hello\" \n",
    "print(greetings, name, \"you are still young\")\n",
    "\n",
    "#input_ammar \n",
    "\n"
   ]
  },
  {
   "cell_type": "markdown",
   "id": "a7df7235",
   "metadata": {},
   "source": [
    "   **07 Conditional_logics**"
   ]
  },
  {
   "cell_type": "markdown",
   "id": "4dcb80d5",
   "metadata": {},
   "source": [
    "### logical operators are either \"true or false\"or \"yes or no or \" 0or 1\"\n",
    "### equal to                              == \n",
    "### not equal to                        !=\n",
    "### less than                             <\n",
    "### greater than                        >\n",
    "### less than and equal to       <=\n",
    "### greater than and equal to  >=\n"
   ]
  },
  {
   "cell_type": "code",
   "execution_count": 19,
   "id": "6a4f96d1",
   "metadata": {},
   "outputs": [
    {
     "name": "stdout",
     "output_type": "stream",
     "text": [
      "how old is Wali? 4\n",
      "<class 'int'>\n",
      "False\n"
     ]
    }
   ],
   "source": [
    "# Is 4 equal to 4?\n",
    "# print(4==4)\n",
    "# print(4!=4)\n",
    "# print(5>4)\n",
    "# print(4<3)\n",
    "# print(3>=5)\n",
    "# print(5<=4)\n",
    "\n",
    "#applicaton of logical operators\n",
    "# Wali_age=4\n",
    "# age_at_school=5\n",
    "# print(Wali_age==age_at_school)\n",
    "\n",
    "#input function and logical operator\n",
    "age_at_school=5\n",
    "Wali_age=input(\"how old is Wali? \") #input function\n",
    "Wali_age=int(Wali_age)\n",
    "print(type(Wali_age))\n",
    "print(Wali_age==age_at_school) #logicaloperators\n",
    "\n",
    "#convert input"
   ]
  },
  {
   "cell_type": "markdown",
   "id": "d383775e",
   "metadata": {},
   "source": [
    "  **08 Type_Conversion**"
   ]
  },
  {
   "cell_type": "markdown",
   "id": "ea616d50",
   "metadata": {},
   "source": [
    "### x= 10          # integer\n",
    "### y= 10.2          # float\n",
    "### z= \"Hello\"        # string"
   ]
  },
  {
   "cell_type": "code",
   "execution_count": 21,
   "id": "ba72600f",
   "metadata": {},
   "outputs": [
    {
     "name": "stdout",
     "output_type": "stream",
     "text": [
      "What is your name? Sana\n",
      "Sana <class 'str'>\n"
     ]
    }
   ],
   "source": [
    "#implicit type conversion\n",
    "# y=x*y\n",
    "# print(x,\"type of x is:\",type(x))\n",
    "\n",
    "#explicit type conversion\n",
    "# age=input(\"What is your age? \")\n",
    "#age=int(age)\n",
    "# print(type(str(age)))\n",
    "\n",
    "#name\n",
    "name=input(\"What is your name? \")\n",
    "print(name,type(str(name)))\n",
    "\n",
    "#type_conversion\n"
   ]
  },
  {
   "cell_type": "markdown",
   "id": "c787b0e7",
   "metadata": {},
   "source": [
    "  **If_Else_Elif**"
   ]
  },
  {
   "cell_type": "code",
   "execution_count": 22,
   "id": "9b21393a",
   "metadata": {},
   "outputs": [
    {
     "name": "stdout",
     "output_type": "stream",
     "text": [
      "you should take care of Wali,he is still a baby!\n"
     ]
    }
   ],
   "source": [
    "Wali_age= 2\n",
    "required_age_at_school = 5\n",
    "\n",
    "\n",
    "#question:Can Wali go to school?\n",
    "if Wali_age==required_age_at_school:\n",
    "    print(\"Congratulations! Wali can join the school\")\n",
    "elif Wali_age > required_age_at_school:\n",
    "     print(\"Wali should join higher secondary school\")\n",
    "elif Wali_age <= 2:\n",
    "     print(\"you should take care of Wali,he is still a baby!\")    \n",
    "else:\n",
    "    print(\"Wali can not go to school\")\n",
    "\n",
    "    #statements clear\n"
   ]
  },
  {
   "cell_type": "markdown",
   "id": "baaa62b1",
   "metadata": {},
   "source": [
    "  **10 Functions**"
   ]
  },
  {
   "cell_type": "code",
   "execution_count": 23,
   "id": "f47c109d",
   "metadata": {},
   "outputs": [
    {
     "name": "stdout",
     "output_type": "stream",
     "text": [
      "38\n"
     ]
    }
   ],
   "source": [
    "# define a functions\n",
    "\n",
    "# def print_codanics():\n",
    "#     print(\"We are learning with sir Ammar\")\n",
    "#     print(\"We are learning with sir Ammar\")\n",
    "#     print(\"We are learning with sir Ammar\")\n",
    "\n",
    "# print_codanics()\n",
    "\n",
    "#2\n",
    "# def print_codanics():\n",
    "#   text = \"We are learning with sir Ammar in codanics youtube channel\"\n",
    "#   print(text)\n",
    "#   print(text)\n",
    "#   print(text)\n",
    "\n",
    "# print_codanics()\n",
    "\n",
    "# 3 \n",
    "# def print_codanics(text):\n",
    "#     print(text)\n",
    "#     print(text)\n",
    "#     print(text)\n",
    "\n",
    "# print_codanics(\"we are learning python with Ammar Sir in codanics youtube channel\")\n",
    "\n",
    "# defining a function with if, elif and else statements\n",
    "\n",
    "# def school_calculator(age,text):\n",
    "#     if age==5:\n",
    "#          print(\"Wali can join the school\")\n",
    "#     elif age>5:\n",
    "#          print(\"Wali should go to higher school\")\n",
    "#     else:\n",
    "#          print  (\"Wali is still a baby\")\n",
    "\n",
    "\n",
    "# school_calculator(5,\"Wali\")\n",
    "   \n",
    "\n",
    "#defining a function of future \n",
    "\n",
    "def future_age(age):\n",
    "    new_age=age+20\n",
    "    return new_age\n",
    "    print(new_age)\n",
    "\n",
    "future_predicted_age= future_age(18)\n",
    "print(future_predicted_age)"
   ]
  },
  {
   "cell_type": "markdown",
   "id": "b11be465",
   "metadata": {},
   "source": [
    "  **11 Loops**"
   ]
  },
  {
   "cell_type": "code",
   "execution_count": 24,
   "id": "4aff711a",
   "metadata": {},
   "outputs": [
    {
     "name": "stdout",
     "output_type": "stream",
     "text": [
      "Mon\n",
      "Mon\n",
      "Tue\n",
      "Tue\n",
      "Wed\n",
      "Wed\n",
      "Thu\n",
      "Thu\n",
      "Sat\n",
      "Sat\n",
      "Sun\n",
      "Sun\n"
     ]
    }
   ],
   "source": [
    "#while and for loops\n",
    "\n",
    "\n",
    "#while loops\n",
    "# x=0\n",
    "# while(x<=5):\n",
    "#     print(x)\n",
    "#     x=x+1\n",
    "\n",
    "    #for loop\n",
    "\n",
    "\n",
    "# \n",
    "# for x in range(4,11):\n",
    "# print(x)\n",
    "\n",
    "#array\n",
    "from logging.config import stopListening\n",
    "\n",
    "\n",
    "days= [\"Mon\", \"Tue\", \"Wed\",\"Thu\",\"Fri\",\"Sat\",\"Sun\"]\n",
    "\n",
    "for d in days:\n",
    "#    if (d==\"Fri\"):break #loop stops\n",
    "   if(d==\"Fri\"):continue #skips\n",
    "   print(d)\n",
    "\n",
    "   print(d)\n",
    "\n",
    "\n",
    "\n"
   ]
  },
  {
   "cell_type": "markdown",
   "id": "bc5f2367",
   "metadata": {},
   "source": [
    "  **12 Import_Libraries** "
   ]
  },
  {
   "cell_type": "code",
   "execution_count": 25,
   "id": "31299fd0",
   "metadata": {},
   "outputs": [
    {
     "name": "stdout",
     "output_type": "stream",
     "text": [
      "the value of pi is  3.141592653589793\n",
      "350\n"
     ]
    }
   ],
   "source": [
    "#if you print the value of pi\n",
    "\n",
    "import math\n",
    "print(\"the value of pi is \" , math.pi)\n",
    "\n",
    "import statistics\n",
    "\n",
    "x= [150,250,350,450,550]\n",
    "\n",
    "print(statistics.mean(x))\n",
    "\n",
    "#numpy,pandas\n",
    "\n"
   ]
  },
  {
   "cell_type": "markdown",
   "id": "097a39f2",
   "metadata": {},
   "source": [
    "  **13 Trouble_shooting**"
   ]
  },
  {
   "cell_type": "code",
   "execution_count": 26,
   "id": "a192d462",
   "metadata": {},
   "outputs": [
    {
     "name": "stdout",
     "output_type": "stream",
     "text": [
      "Hello Ammar\n"
     ]
    }
   ],
   "source": [
    "# print(\"we are learning with sir Ammar\")\n",
    "\n",
    "# print(25/0) #runtime error\n",
    "\n",
    "\n",
    "name =\"Ammar\"\n",
    "\n",
    "print(\"Hello\",name)  #symentic error\n",
    "\n",
    "#trouble shooting is easy\n",
    "\n"
   ]
  },
  {
   "cell_type": "code",
   "execution_count": null,
   "id": "f293e923",
   "metadata": {},
   "outputs": [],
   "source": []
  }
 ],
 "metadata": {
  "kernelspec": {
   "display_name": "Python 3 (ipykernel)",
   "language": "python",
   "name": "python3"
  },
  "language_info": {
   "codemirror_mode": {
    "name": "ipython",
    "version": 3
   },
   "file_extension": ".py",
   "mimetype": "text/x-python",
   "name": "python",
   "nbconvert_exporter": "python",
   "pygments_lexer": "ipython3",
   "version": "3.9.12"
  }
 },
 "nbformat": 4,
 "nbformat_minor": 5
}
